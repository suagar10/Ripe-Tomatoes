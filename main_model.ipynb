{
 "cells": [
  {
   "cell_type": "markdown",
   "metadata": {},
   "source": [
    "# Movie Review Sentiment Classifier"
   ]
  },
  {
   "cell_type": "markdown",
   "metadata": {},
   "source": [
    "## Importing the libraries "
   ]
  },
  {
   "cell_type": "code",
   "execution_count": 1,
   "metadata": {},
   "outputs": [],
   "source": [
    "from tensorflow.keras.models import Model\n",
    "from tensorflow.keras.layers import Conv1D, LSTM, Bidirectional, SpatialDropout1D, MaxPool1D, AveragePooling1D, Embedding\n",
    "from tensorflow.keras.preprocessing.sequence import pad_sequences\n",
    "from tensorflow.keras.preprocessing.text import Tokenizer\n",
    "from tensorflow.keras.utils import plot_model\n",
    "from tensorflow.keras.callbacks import EarlyStopping, ModelCheckpoint\n",
    "import os\n",
    "import numpy as np\n",
    "import matplotlib.pyplot as plt\n",
    "import sys\n",
    "\n",
    "if not sys.warnoptions:\n",
    "    import warnings\n",
    "    warnings.simplefilter('ignore')"
   ]
  },
  {
   "cell_type": "markdown",
   "metadata": {},
   "source": [
    "## Data Preprocessing\n",
    "\n",
    "### Getting the data"
   ]
  },
  {
   "cell_type": "code",
   "execution_count": 2,
   "metadata": {},
   "outputs": [
    {
     "output_type": "stream",
     "name": "stdout",
     "text": "admittedly , with a title like the mangler , you're not expecting the second coming of the godfather . or even halloween , for that matter . nevertheless , regardless of how silly the name sounds and how unpromising the cast looks , it's difficult to be prepared for something this atrocious . i won't claim this is the worst movie i've ever seen--there are plenty of worthy contenders for that honor--but it's certainly among a select group , right alongside such notables as split second and dr . giggles . i haven't spent much time in laundry factories , but i'm sure there aren't many of them with the near-gothic appearance of the blue ribbon in rivers valley , maine . people are being gobbled up by \" the mangler \" , the gargantuan machine that presses and folds sheets . he might well have been talking about the movie itself . anyway , it's not long before we learn that the mangler isn't the only machine to run amok . apparently , a refrigerator has developed some homicidal tendencies . imagine , if you will , the sight of two burly men wrestling with a refrigerator before one starts beating it up . actually , the overall plot isn't quite as lucid as the above description might suggest , but i've tried to condense things a little , leaving out , for example , all references to the \" missing finger club \" and the belladonna antacids that everyone seems to be taking . logic obviously isn't of concern to the mangler's creators . this film is a hodgepodge of the incoherent , the idiotic , and the simply awful . there's not one element of the production worthy of even faint praise . the acting is uniformly terrible . the direction is shoddy . the gore level is very high--the mangler doesn't leave much to the imagination , such as what happens when a person gets forced through a quarter-inch opening . why are good horror films so rare ? take one look at the lack of effort put into the mangler , and the answer will be obvious . it's a lot easier to come up with lifeless , hackneyed drivel like this than to expend any real effort . unfortunately , it's movies like this that give the genre a bad name . in this case , a very bad name . ultimately , sitting through the mangler is about as appealing as getting squeezed through the machine . \n0\n"
    }
   ],
   "source": [
    "reviews = []\n",
    "ratings = []\n",
    "\n",
    "dataset_dir = 'cornell_nlp_dataset/scaledata'\n",
    "folders = os.listdir(dataset_dir)\n",
    "for folder in folders:\n",
    "    fname = os.path.join(dataset_dir, str(folder)+'/'+'subj.'+str(folder))\n",
    "    f = open(fname)\n",
    "    data = f.read()\n",
    "    lines = data.split('\\n')\n",
    "    reviews.extend(lines)\n",
    "    f.close()\n",
    "    fname2 = os.path.join(dataset_dir, str(folder)+'/'+'label.4class.'+str(folder))\n",
    "    f2 = open(fname2)\n",
    "    data2 = f2.read()\n",
    "    rating = data2.split('\\n')\n",
    "    ratings.extend(rating)\n",
    "    f2.close()\n",
    "print(reviews[1])\n",
    "print(ratings[1])"
   ]
  },
  {
   "cell_type": "code",
   "execution_count": 8,
   "metadata": {},
   "outputs": [
    {
     "output_type": "stream",
     "name": "stdout",
     "text": "No. of reviews in this dataset: 5010\n"
    }
   ],
   "source": [
    "print('No. of reviews in this dataset: %d' %len(reviews))"
   ]
  },
  {
   "cell_type": "markdown",
   "metadata": {},
   "source": [
    "### Tokenizing data"
   ]
  },
  {
   "cell_type": "code",
   "execution_count": 13,
   "metadata": {},
   "outputs": [
    {
     "output_type": "stream",
     "name": "stdout",
     "text": "No. of unique tokens: 46259\nShape of dataset:  (5010, 400)\nShape of labels:  (5010,)\n"
    }
   ],
   "source": [
    "maxlen = 400\n",
    "training_samples = 2010\n",
    "val_samples = 1000\n",
    "test_samples = 1000\n",
    "max_words = 15000\n",
    "\n",
    "tokenizer = Tokenizer(num_words=max_words)\n",
    "tokenizer.fit_on_texts(reviews)\n",
    "sequences = tokenizer.texts_to_sequences(reviews)\n",
    "word_index = tokenizer.word_index\n",
    "print('No. of unique tokens: %d' %(len(word_index)))\n",
    "\n",
    "dataset = pad_sequences(sequences, maxlen=maxlen)\n",
    "labels = np.asarray(ratings)\n",
    "\n",
    "print('Shape of dataset: ', dataset.shape)\n",
    "print('Shape of labels: ', labels.shape)\n",
    "\n",
    "indices = np.arange(dataset.shape[0])\n",
    "np.random.shuffle(indices)\n",
    "dataset = dataset[indices]\n",
    "labels = labels[indices]\n",
    "\n",
    "x_train = dataset[:training_samples]\n",
    "y_train = labels[:training_samples]\n",
    "x_val = dataset[training_samples: training_samples + val_samples]\n",
    "y_val = dataset[training_samples: training_samples + val_samples]"
   ]
  },
  {
   "cell_type": "markdown",
   "metadata": {},
   "source": [
    "## Model"
   ]
  }
 ],
 "metadata": {
  "language_info": {
   "codemirror_mode": {
    "name": "ipython",
    "version": 3
   },
   "file_extension": ".py",
   "mimetype": "text/x-python",
   "name": "python",
   "nbconvert_exporter": "python",
   "pygments_lexer": "ipython3",
   "version": "3.6.9-final"
  },
  "orig_nbformat": 2,
  "kernelspec": {
   "name": "python3",
   "display_name": "Python 3"
  }
 },
 "nbformat": 4,
 "nbformat_minor": 2
}